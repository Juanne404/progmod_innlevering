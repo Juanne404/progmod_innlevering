{
 "cells": [
  {
   "cell_type": "markdown",
   "metadata": {},
   "source": [
    "# Numerisk derivasjon\n",
    "\n"
   ]
  },
  {
   "cell_type": "markdown",
   "metadata": {},
   "source": [
    "derivasjon er en opprasjon man kan gjøre på en graf for å få vite om/når grafen synker eller stiger\n",
    "\n",
    "en tangent er en rett linje som krysser et punkt med momentanfart som sktgningstall, du kan skrive det slik fordi en tangent er streken mellom to punkt som er nesten oppå hverandre alså da->0 \n",
    "\n",
    "numerisk derivasjon er derivasjon i punkt i steden for grafer\n",
    "\n",
    "$$f'(x) = \\lim_{\\Delta x \\to 0} \\frac{f(x + \\Delta x) - f(x)}{\\Delta x} $$\n",
    "\n",
    "\n"
   ]
  },
  {
   "cell_type": "code",
   "execution_count": 1,
   "metadata": {},
   "outputs": [
    {
     "name": "stdout",
     "output_type": "stream",
     "text": [
      "3.999999975690116\n"
     ]
    }
   ],
   "source": [
    "def f(x):\n",
    "    return x**2 + 2*x\n",
    "\n",
    "\n",
    "def fder(f, x, h = 1E-8):\n",
    "    df = (f(x + h) - f(x)) / h\n",
    "    return df \n",
    "\n",
    "df = fder(f,1)\n",
    "print(df)\n"
   ]
  },
  {
   "cell_type": "markdown",
   "metadata": {},
   "source": [
    "### Derivasjon av data"
   ]
  },
  {
   "cell_type": "code",
   "execution_count": 2,
   "metadata": {},
   "outputs": [
    {
     "data": {
      "text/plain": [
       "<Figure size 640x480 with 1 Axes>"
      ]
     },
     "metadata": {},
     "output_type": "display_data"
    },
    {
     "data": {
      "text/plain": [
       "<Figure size 640x480 with 1 Axes>"
      ]
     },
     "metadata": {},
     "output_type": "display_data"
    },
    {
     "data": {
      "text/plain": [
       "<Figure size 640x480 with 1 Axes>"
      ]
     },
     "metadata": {},
     "output_type": "display_data"
    }
   ],
   "source": [
    "from pylab import *\n",
    "\n",
    "data = loadtxt('heis.txt', skiprows = 1, delimiter = ',')\n",
    "\n",
    "tid = data[:,0]   #printer alle radene i kolonne 0\n",
    "pressure = data[:,1]\n",
    "height = data[:,2]\n",
    "velocity = data[:,4]\n",
    "\n",
    "#veigraf\n",
    "S = []\n",
    "TS = []\n",
    "\n",
    "for i in range(0,len(tid)-1):\n",
    "    x = (height[i+1]-height[i])/(tid[i+1]- tid[i])\n",
    "    S.append(x)\n",
    "    TS.append(i)\n",
    "    \n",
    "s = array(S)\n",
    "ts = array(TS)\n",
    "    \n",
    "    \n",
    "plot(tid, height)\n",
    "plot(ts, s)\n",
    "show()\n",
    "\n",
    "#fartsgraf\n",
    "V = []\n",
    "TV = []\n",
    "\n",
    "for i in range(0,len(tid)-1):\n",
    "    y = (velocity[i+1]-velocity[i])/(tid[i+1]- tid[i])\n",
    "    V.append(y)\n",
    "    TV.append(i)\n",
    "    \n",
    "v = array(V)\n",
    "tv = array(TV)\n",
    "    \n",
    "plot(tid, velocity)\n",
    "plot(tv, v)\n",
    "show()\n",
    "\n",
    "#pressuregraf\n",
    "P = []\n",
    "TP = []\n",
    "\n",
    "for i in range(0,len(tid)-1):\n",
    "    z = (pressure[i+1]-pressure[i])/(tid[i+1]- tid[i])\n",
    "    P.append(z)\n",
    "    TP.append(i)\n",
    "    \n",
    "p = array(P)\n",
    "tp = array(TP)\n",
    "    \n",
    "plot(tid, pressure)\n",
    "plot(tp, p)\n",
    "show()\n",
    "\n"
   ]
  },
  {
   "cell_type": "markdown",
   "metadata": {},
   "source": [
    "## oppgave 1\n",
    "\n",
    "##### a\n",
    "en sekant er en rett linje som krysser en graf på to steder, du kan skive det slik fordi f(a+da)- f(a) er det samme som delta y /delta x\n",
    "\n",
    "$$k = \\frac{f(x + \\Delta x) - f(x)}{\\Delta x} $$\n",
    "\n",
    "##### b\n",
    "en tangent er en rett linje som krysser et punkt med momentanfart som sktgningstall, du kan skrive det slik fordi en tangent er streken mellom to punkt som er nesten oppå hverandre alså da->0 \n",
    "\n",
    "$$f'(x) = \\lim_{\\Delta x \\to 0} \\frac{f(x + \\Delta x) - f(x)}{\\Delta x} $$\n",
    "\n",
    "##### c\n",
    "derivasjon er en funksjon for stigningstallet til en tangent fra et punkt, da lim -> 0 betyr egentlig at forskjellen mellom to punkter som ligger ca 0\n",
    "\n",
    "##### d\n",
    "forskjellen er at du bytter ut delta a med h fordi ha hadde nokk målinger til å lage en graf slik at han lagde en rekke sekanter i steden for en rekke tangenter. forskellen er at den derieverte er laget av tangenter men newtons kvotient er laget av sekanter\n"
   ]
  },
  {
   "cell_type": "code",
   "execution_count": 2,
   "metadata": {},
   "outputs": [
    {
     "name": "stdout",
     "output_type": "stream",
     "text": [
      "3.999999975690116\n"
     ]
    }
   ],
   "source": [
    "def f(x):\n",
    "    return x**2 + 2*x\n",
    "\n",
    "\n",
    "def fder(f, x, h = 1E-8):\n",
    "    df = (f(x + h) - f(x)) / h\n",
    "    return df \n",
    "\n",
    "df = fder(f,1)\n",
    "print(df)"
   ]
  },
  {
   "cell_type": "code",
   "execution_count": null,
   "metadata": {},
   "outputs": [],
   "source": []
  }
 ],
 "metadata": {
  "kernelspec": {
   "display_name": "Python 3",
   "language": "python",
   "name": "python3"
  },
  "language_info": {
   "codemirror_mode": {
    "name": "ipython",
    "version": 3
   },
   "file_extension": ".py",
   "mimetype": "text/x-python",
   "name": "python",
   "nbconvert_exporter": "python",
   "pygments_lexer": "ipython3",
   "version": "3.7.3"
  }
 },
 "nbformat": 4,
 "nbformat_minor": 2
}
